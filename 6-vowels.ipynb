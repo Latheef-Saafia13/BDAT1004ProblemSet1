{
 "cells": [
  {
   "cell_type": "code",
   "execution_count": 1,
   "id": "88515e00",
   "metadata": {},
   "outputs": [],
   "source": [
    "vowels = ['a','e','i','o','u']\n",
    "def pig(word):  \n",
    "    if word[0].lower() in vowels:\n",
    "        print(word.lower() + 'way')\n",
    "    else:\n",
    "        first_letter = word[0]\n",
    "        print(word[1:].lower()+first_letter.lower()+'ay')"
   ]
  },
  {
   "cell_type": "code",
   "execution_count": 2,
   "id": "3f8d94c4",
   "metadata": {},
   "outputs": [
    {
     "name": "stdout",
     "output_type": "stream",
     "text": [
      "appyhay\n"
     ]
    }
   ],
   "source": [
    "pig('happy')"
   ]
  },
  {
   "cell_type": "code",
   "execution_count": 3,
   "id": "9752d00c",
   "metadata": {},
   "outputs": [
    {
     "name": "stdout",
     "output_type": "stream",
     "text": [
      "enterway\n"
     ]
    }
   ],
   "source": [
    "pig('Enter')"
   ]
  },
  {
   "cell_type": "code",
   "execution_count": 4,
   "id": "a4465504",
   "metadata": {},
   "outputs": [
    {
     "name": "stdout",
     "output_type": "stream",
     "text": [
      "adsay\n"
     ]
    }
   ],
   "source": [
    "pig('sad')"
   ]
  },
  {
   "cell_type": "code",
   "execution_count": null,
   "id": "4a91ae1b",
   "metadata": {},
   "outputs": [],
   "source": []
  }
 ],
 "metadata": {
  "kernelspec": {
   "display_name": "Python 3 (ipykernel)",
   "language": "python",
   "name": "python3"
  },
  "language_info": {
   "codemirror_mode": {
    "name": "ipython",
    "version": 3
   },
   "file_extension": ".py",
   "mimetype": "text/x-python",
   "name": "python",
   "nbconvert_exporter": "python",
   "pygments_lexer": "ipython3",
   "version": "3.9.12"
  }
 },
 "nbformat": 4,
 "nbformat_minor": 5
}
