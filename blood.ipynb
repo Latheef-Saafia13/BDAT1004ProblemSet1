{
 "cells": [
  {
   "cell_type": "code",
   "execution_count": 1,
   "id": "06b6d1a0",
   "metadata": {},
   "outputs": [],
   "source": [
    "import pandas as pd\n"
   ]
  },
  {
   "cell_type": "code",
   "execution_count": 2,
   "id": "4553754f",
   "metadata": {},
   "outputs": [],
   "source": [
    "df = pd.read_table(\"C:\\\\Users\\\\saafi\\\\Downloads\\\\7535523.txt\")"
   ]
  },
  {
   "cell_type": "code",
   "execution_count": 3,
   "id": "f63ff4d1",
   "metadata": {},
   "outputs": [
    {
     "data": {
      "text/html": [
       "<div>\n",
       "<style scoped>\n",
       "    .dataframe tbody tr th:only-of-type {\n",
       "        vertical-align: middle;\n",
       "    }\n",
       "\n",
       "    .dataframe tbody tr th {\n",
       "        vertical-align: top;\n",
       "    }\n",
       "\n",
       "    .dataframe thead th {\n",
       "        text-align: right;\n",
       "    }\n",
       "</style>\n",
       "<table border=\"1\" class=\"dataframe\">\n",
       "  <thead>\n",
       "    <tr style=\"text-align: right;\">\n",
       "      <th></th>\n",
       "      <th>AB AB B O A A AB O AB A O O A A A O O O AB O A A A A A AB AB A AB O AB O A O O O AB O AB AB AB A A O</th>\n",
       "    </tr>\n",
       "  </thead>\n",
       "  <tbody>\n",
       "  </tbody>\n",
       "</table>\n",
       "</div>"
      ],
      "text/plain": [
       "Empty DataFrame\n",
       "Columns: [AB AB B O A A AB O AB A O O A A A O O O AB O A A A A A AB AB A AB O AB O A O O O AB O AB AB AB A A O ]\n",
       "Index: []"
      ]
     },
     "execution_count": 3,
     "metadata": {},
     "output_type": "execute_result"
    }
   ],
   "source": [
    "df.head()"
   ]
  },
  {
   "cell_type": "code",
   "execution_count": 6,
   "id": "41ab79a1",
   "metadata": {},
   "outputs": [
    {
     "name": "stdout",
     "output_type": "stream",
     "text": [
      "There are 15 patients of blood type A.\n",
      "There are 1 patients of blood type B.\n",
      "There are 13 patients of blood type AB.\n",
      "There are 15 patients of blood type O.\n",
      "There are 0 patients of blood type OO.\n"
     ]
    }
   ],
   "source": [
    "bldcount('7535523.txt')"
   ]
  },
  {
   "cell_type": "code",
   "execution_count": 4,
   "id": "9e326c80",
   "metadata": {},
   "outputs": [],
   "source": [
    "def bldcount(filename):\n",
    "    \n",
    "    x = open(filename,'r')\n",
    "    words = x.readline()\n",
    "    lst = []\n",
    "    blood_types = ['A','B','AB','O','OO']\n",
    "    \n",
    "    lst.append(words.split(\" \"))\n",
    "    \n",
    "    for blood_type in blood_types:\n",
    "        print(\"There are {} patients of blood type {}.\".format(lst[0].count(blood_type),blood_type))"
   ]
  },
  {
   "cell_type": "code",
   "execution_count": null,
   "id": "60e467c5",
   "metadata": {},
   "outputs": [],
   "source": []
  }
 ],
 "metadata": {
  "kernelspec": {
   "display_name": "Python 3 (ipykernel)",
   "language": "python",
   "name": "python3"
  },
  "language_info": {
   "codemirror_mode": {
    "name": "ipython",
    "version": 3
   },
   "file_extension": ".py",
   "mimetype": "text/x-python",
   "name": "python",
   "nbconvert_exporter": "python",
   "pygments_lexer": "ipython3",
   "version": "3.9.12"
  }
 },
 "nbformat": 4,
 "nbformat_minor": 5
}
