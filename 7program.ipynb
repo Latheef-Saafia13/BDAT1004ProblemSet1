{
 "cells": [
  {
   "cell_type": "code",
   "execution_count": 5,
   "id": "8d36ed6b",
   "metadata": {},
   "outputs": [],
   "source": [
    "def bldcount(filename):\n",
    "    \n",
    "    x = open(filename,'r')\n",
    "    words = x.readline()\n",
    "    lst = []\n",
    "    blood_typs = ['A','B','AB','O','OO']\n",
    "    \n",
    "    lst.append(words.split(\" \"))\n",
    "    \n",
    "    for blood_typ in blood_typs:\n",
    "        print(\"There are {} patients of blood type {}.\".format(lst[0].count(blood_typ),blood_typ))"
   ]
  },
  {
   "cell_type": "code",
   "execution_count": 6,
   "id": "b1ee9c9f",
   "metadata": {},
   "outputs": [
    {
     "name": "stdout",
     "output_type": "stream",
     "text": [
      "There are 15 patients of blood type A.\n",
      "There are 1 patients of blood type B.\n",
      "There are 13 patients of blood type AB.\n",
      "There are 15 patients of blood type O.\n",
      "There are 0 patients of blood type OO.\n"
     ]
    }
   ],
   "source": [
    "bldcount('bloodtype.txt')"
   ]
  },
  {
   "cell_type": "code",
   "execution_count": null,
   "id": "d2166342",
   "metadata": {},
   "outputs": [],
   "source": []
  }
 ],
 "metadata": {
  "kernelspec": {
   "display_name": "Python 3 (ipykernel)",
   "language": "python",
   "name": "python3"
  },
  "language_info": {
   "codemirror_mode": {
    "name": "ipython",
    "version": 3
   },
   "file_extension": ".py",
   "mimetype": "text/x-python",
   "name": "python",
   "nbconvert_exporter": "python",
   "pygments_lexer": "ipython3",
   "version": "3.9.12"
  }
 },
 "nbformat": 4,
 "nbformat_minor": 5
}
